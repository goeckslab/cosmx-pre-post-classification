{
 "cells": [
  {
   "cell_type": "code",
   "execution_count": 1,
   "id": "e59dcb6b-ae5f-49c1-a91f-1ebb1bc500dd",
   "metadata": {},
   "outputs": [
    {
     "data": {
      "text/plain": [
       "'3.2.0'"
      ]
     },
     "execution_count": 1,
     "metadata": {},
     "output_type": "execute_result"
    }
   ],
   "source": [
    "from pycaret.utils import version\n",
    "version()"
   ]
  },
  {
   "cell_type": "code",
   "execution_count": 2,
   "id": "7053f781-e4b3-42fe-8206-2be1f1d86fd7",
   "metadata": {},
   "outputs": [],
   "source": [
    "import pandas as pd\n",
    "from typing import List\n",
    "from pathlib import Path\n",
    "import os\n",
    "from pycaret.classification import *"
   ]
  },
  {
   "cell_type": "code",
   "execution_count": 9,
   "id": "aac2c5cb-1851-4fcb-a1ea-ca18f752b555",
   "metadata": {},
   "outputs": [],
   "source": [
    "patients = ['209184_1', '209184_2', '312158_1', '312158_2', '475139_1', '475139_2', '484265_1', '484265_2', '566112_1', \n",
    "            '566112_2', '657907_1', '657907_2', '672431_1', '672431_2', '798747_1', '798747_2', '894222_1', '894222_2']\n",
    "radius = 0\n",
    "COLUMNS_OF_INTEREST = ['4-1BB', 'AKT', 'AR', 'Arg', 'B7-H3', 'BCL2', 'BCL6', 'BCLXL', 'BIM', 'BRAF', 'Beta-catenin',\n",
    "              'C902-B2M', 'C902-panCK', 'CASP9', 'CCR7', 'CD11a', 'CD11b', 'CD11c', 'CD123', 'CD127', 'CD138',\n",
    "              'CD14', 'CD15', 'CD16', 'CD163', 'CD19', 'CD20', 'CD226', 'CD25', 'CD27', 'CD3', 'CD31', 'CD34', 'CD38',\n",
    "              'CD39', 'CD4', 'CD40', 'CD44', 'CD45', 'CD45RA', 'CD45RO', 'CD56', 'CD66b', 'CD68', 'CD8', 'CD80',\n",
    "              'CTLA4',\n",
    "              'CyclinD1', 'Desmin', 'E-cad', 'EGFR', 'ERalpha', 'EpCAM', 'FABP4', 'FAP', 'FN1', 'FOXP3', 'GAPDH',\n",
    "              'GATA-3', 'GITR',\n",
    "              'GSK3b', 'GZMA', 'GZMB', 'HER2.y', 'HLA-DRA', 'ICAM1', 'ICOS', 'IDO1', 'IL-18', 'IL-1B', 'INPP4B', 'IgD',\n",
    "              'KI67', 'LAG3',\n",
    "              'LAMP1', 'MART-1', 'MET', 'MPO', 'NF-kBp65', 'NY-ESO-1', 'OX40L', 'PARP', 'PD1', 'PDL1', 'PDL2', 'PLCG1',\n",
    "              'PR.y', 'PTEN',\n",
    "              'PVR', 'Pan-AKT', 'RSK1p90', 'SMA', 'STING', 'T-bet', 'TCF-1', 'TIM3', 'VIM', 'VISTA', 'cJun', 'gH2AX',\n",
    "              'iNOS', 'p38MAPK',\n",
    "              'p44-42MAP-ERK', 'p44-42MAPK-ERK', 'p53', 'pGSK3ab', 'pJNK', 'pMEK1', 'pPRAS40', 'pTuberin', 'panRAS',\n",
    "              \"ER\", \"PR\", \"HER2.x\"]\n"
   ]
  },
  {
   "cell_type": "code",
   "execution_count": 10,
   "id": "4de47507-01bb-46a7-be56-9a272534a0fa",
   "metadata": {},
   "outputs": [],
   "source": [
    "folder=\"data_v3\"\n",
    "save_folder = Path(\"v3\", str(radius))\n",
    "\n",
    "if not save_folder.exists():\n",
    "    save_folder.mkdir(parents=True)"
   ]
  },
  {
   "cell_type": "markdown",
   "id": "e0e367ef-d9f8-46e0-925c-9ad9499546e8",
   "metadata": {},
   "source": [
    "# Data Loader"
   ]
  },
  {
   "cell_type": "code",
   "execution_count": 11,
   "id": "88fc6145-92c9-4e5c-ac3a-e1d2e43a5e9d",
   "metadata": {},
   "outputs": [],
   "source": [
    "def load_patient(patient: str) -> {}:\n",
    "    data_path = Path(\"..\",folder, \"mapped_data\", f\"{radius}\")\n",
    "\n",
    "    data_frames: dict = {}\n",
    "\n",
    "    for root, dirs, files in os.walk(data_path):\n",
    "        for file in files:\n",
    "\n",
    "            if Path(file).suffix != \".csv\":\n",
    "                continue\n",
    "\n",
    "            if patient not in file:\n",
    "                continue\n",
    "\n",
    "            print(file)\n",
    "\n",
    "            data_frames[Path(file).stem] = pd.read_csv(Path(data_path, file))\n",
    "\n",
    "    return data_frames"
   ]
  },
  {
   "cell_type": "code",
   "execution_count": 12,
   "id": "2cc035e9-5792-453b-aa38-da6c5353defb",
   "metadata": {},
   "outputs": [],
   "source": [
    "def load_files(patient_to_be_excluded: str) -> (pd.DataFrame, List):\n",
    "    if not patient_to_be_excluded:\n",
    "        raise ValueError(\"Patient to be excluded needs to be specified.\")\n",
    "\n",
    "    data_path = Path(\"..\", folder, \"mapped_data\",  f\"{radius}\" )\n",
    "\n",
    "    data_frames: [pd.DataFrame] = []\n",
    "    loaded_files = []\n",
    "    for root, dirs, files in os.walk(data_path):\n",
    "        for file in files:\n",
    "\n",
    "            if Path(file).suffix != \".csv\":\n",
    "                continue\n",
    "\n",
    "            if patient_to_be_excluded in file:\n",
    "                continue\n",
    "\n",
    "            print(file)\n",
    "\n",
    "            data_frames.append(pd.read_csv(Path(data_path, file)))\n",
    "            loaded_files.append(file)\n",
    "\n",
    "    data_frames = pd.concat(data_frames, axis=0)\n",
    "    return data_frames, loaded_files"
   ]
  },
  {
   "cell_type": "code",
   "execution_count": 13,
   "id": "f7fbd651-2ef8-47c7-9628-30eb4f0219ad",
   "metadata": {},
   "outputs": [
    {
     "name": "stdout",
     "output_type": "stream",
     "text": [
      "Loading train sets...\n",
      "672431_1.csv\n",
      "475139_2.csv\n",
      "657907_1.csv\n",
      "672431_2.csv\n",
      "475139_1.csv\n",
      "657907_2.csv\n",
      "894222_2.csv\n",
      "312158_1.csv\n",
      "894222_1.csv\n",
      "312158_2.csv\n",
      "209184_2.csv\n",
      "484265_2.csv\n",
      "798747_2.csv\n",
      "484265_1.csv\n",
      "798747_1.csv\n",
      "566112_2.csv\n",
      "566112_1.csv\n",
      "Loading test sets...\n",
      "209184_1.csv\n"
     ]
    },
    {
     "ename": "KeyError",
     "evalue": "\"['PR'] not in index\"",
     "output_type": "error",
     "traceback": [
      "\u001b[0;31m---------------------------------------------------------------------------\u001b[0m",
      "\u001b[0;31mKeyError\u001b[0m                                  Traceback (most recent call last)",
      "Cell \u001b[0;32mIn[13], line 19\u001b[0m\n\u001b[1;32m     17\u001b[0m \u001b[38;5;28;01mif\u001b[39;00m \u001b[38;5;124m\"\u001b[39m\u001b[38;5;124mCellID\u001b[39m\u001b[38;5;124m\"\u001b[39m \u001b[38;5;129;01min\u001b[39;00m test_set\u001b[38;5;241m.\u001b[39mcolumns:\n\u001b[1;32m     18\u001b[0m     test_set\u001b[38;5;241m.\u001b[39mdrop(columns\u001b[38;5;241m=\u001b[39m[\u001b[38;5;124m\"\u001b[39m\u001b[38;5;124mCellID\u001b[39m\u001b[38;5;124m\"\u001b[39m])\n\u001b[0;32m---> 19\u001b[0m test_set \u001b[38;5;241m=\u001b[39m \u001b[43mtest_set\u001b[49m\u001b[43m[\u001b[49m\u001b[43mCOLUMNS_OF_INTEREST\u001b[49m\u001b[43m]\u001b[49m\u001b[38;5;241m.\u001b[39mcopy()\n\u001b[1;32m     20\u001b[0m \u001b[38;5;66;03m#test_set = test_set.drop(columns=[\"Patient Id\", \"Sample Id\", \"MouseIgG1\"])\u001b[39;00m\n\u001b[1;32m     21\u001b[0m experiment \u001b[38;5;241m=\u001b[39m setup(data\u001b[38;5;241m=\u001b[39mtrain_set,test_data\u001b[38;5;241m=\u001b[39mtest_set, target\u001b[38;5;241m=\u001b[39m\u001b[38;5;124m'\u001b[39m\u001b[38;5;124mTreatment\u001b[39m\u001b[38;5;124m'\u001b[39m, index\u001b[38;5;241m=\u001b[39m\u001b[38;5;28;01mFalse\u001b[39;00m)\n",
      "File \u001b[0;32m~/Development/OHSU/cosmx-pre-post-classification/venv/lib/python3.9/site-packages/pandas/core/frame.py:3813\u001b[0m, in \u001b[0;36mDataFrame.__getitem__\u001b[0;34m(self, key)\u001b[0m\n\u001b[1;32m   3811\u001b[0m     \u001b[38;5;28;01mif\u001b[39;00m is_iterator(key):\n\u001b[1;32m   3812\u001b[0m         key \u001b[38;5;241m=\u001b[39m \u001b[38;5;28mlist\u001b[39m(key)\n\u001b[0;32m-> 3813\u001b[0m     indexer \u001b[38;5;241m=\u001b[39m \u001b[38;5;28;43mself\u001b[39;49m\u001b[38;5;241;43m.\u001b[39;49m\u001b[43mcolumns\u001b[49m\u001b[38;5;241;43m.\u001b[39;49m\u001b[43m_get_indexer_strict\u001b[49m\u001b[43m(\u001b[49m\u001b[43mkey\u001b[49m\u001b[43m,\u001b[49m\u001b[43m \u001b[49m\u001b[38;5;124;43m\"\u001b[39;49m\u001b[38;5;124;43mcolumns\u001b[39;49m\u001b[38;5;124;43m\"\u001b[39;49m\u001b[43m)\u001b[49m[\u001b[38;5;241m1\u001b[39m]\n\u001b[1;32m   3815\u001b[0m \u001b[38;5;66;03m# take() does not accept boolean indexers\u001b[39;00m\n\u001b[1;32m   3816\u001b[0m \u001b[38;5;28;01mif\u001b[39;00m \u001b[38;5;28mgetattr\u001b[39m(indexer, \u001b[38;5;124m\"\u001b[39m\u001b[38;5;124mdtype\u001b[39m\u001b[38;5;124m\"\u001b[39m, \u001b[38;5;28;01mNone\u001b[39;00m) \u001b[38;5;241m==\u001b[39m \u001b[38;5;28mbool\u001b[39m:\n",
      "File \u001b[0;32m~/Development/OHSU/cosmx-pre-post-classification/venv/lib/python3.9/site-packages/pandas/core/indexes/base.py:6070\u001b[0m, in \u001b[0;36mIndex._get_indexer_strict\u001b[0;34m(self, key, axis_name)\u001b[0m\n\u001b[1;32m   6067\u001b[0m \u001b[38;5;28;01melse\u001b[39;00m:\n\u001b[1;32m   6068\u001b[0m     keyarr, indexer, new_indexer \u001b[38;5;241m=\u001b[39m \u001b[38;5;28mself\u001b[39m\u001b[38;5;241m.\u001b[39m_reindex_non_unique(keyarr)\n\u001b[0;32m-> 6070\u001b[0m \u001b[38;5;28;43mself\u001b[39;49m\u001b[38;5;241;43m.\u001b[39;49m\u001b[43m_raise_if_missing\u001b[49m\u001b[43m(\u001b[49m\u001b[43mkeyarr\u001b[49m\u001b[43m,\u001b[49m\u001b[43m \u001b[49m\u001b[43mindexer\u001b[49m\u001b[43m,\u001b[49m\u001b[43m \u001b[49m\u001b[43maxis_name\u001b[49m\u001b[43m)\u001b[49m\n\u001b[1;32m   6072\u001b[0m keyarr \u001b[38;5;241m=\u001b[39m \u001b[38;5;28mself\u001b[39m\u001b[38;5;241m.\u001b[39mtake(indexer)\n\u001b[1;32m   6073\u001b[0m \u001b[38;5;28;01mif\u001b[39;00m \u001b[38;5;28misinstance\u001b[39m(key, Index):\n\u001b[1;32m   6074\u001b[0m     \u001b[38;5;66;03m# GH 42790 - Preserve name from an Index\u001b[39;00m\n",
      "File \u001b[0;32m~/Development/OHSU/cosmx-pre-post-classification/venv/lib/python3.9/site-packages/pandas/core/indexes/base.py:6133\u001b[0m, in \u001b[0;36mIndex._raise_if_missing\u001b[0;34m(self, key, indexer, axis_name)\u001b[0m\n\u001b[1;32m   6130\u001b[0m     \u001b[38;5;28;01mraise\u001b[39;00m \u001b[38;5;167;01mKeyError\u001b[39;00m(\u001b[38;5;124mf\u001b[39m\u001b[38;5;124m\"\u001b[39m\u001b[38;5;124mNone of [\u001b[39m\u001b[38;5;132;01m{\u001b[39;00mkey\u001b[38;5;132;01m}\u001b[39;00m\u001b[38;5;124m] are in the [\u001b[39m\u001b[38;5;132;01m{\u001b[39;00maxis_name\u001b[38;5;132;01m}\u001b[39;00m\u001b[38;5;124m]\u001b[39m\u001b[38;5;124m\"\u001b[39m)\n\u001b[1;32m   6132\u001b[0m not_found \u001b[38;5;241m=\u001b[39m \u001b[38;5;28mlist\u001b[39m(ensure_index(key)[missing_mask\u001b[38;5;241m.\u001b[39mnonzero()[\u001b[38;5;241m0\u001b[39m]]\u001b[38;5;241m.\u001b[39munique())\n\u001b[0;32m-> 6133\u001b[0m \u001b[38;5;28;01mraise\u001b[39;00m \u001b[38;5;167;01mKeyError\u001b[39;00m(\u001b[38;5;124mf\u001b[39m\u001b[38;5;124m\"\u001b[39m\u001b[38;5;132;01m{\u001b[39;00mnot_found\u001b[38;5;132;01m}\u001b[39;00m\u001b[38;5;124m not in index\u001b[39m\u001b[38;5;124m\"\u001b[39m)\n",
      "\u001b[0;31mKeyError\u001b[0m: \"['PR'] not in index\""
     ]
    }
   ],
   "source": [
    "for patient in patients:\n",
    "    print(\"Loading train sets...\")\n",
    "    train_set, _ = load_files(patient)\n",
    "    print(\"Loading test sets...\")\n",
    "    test_sets: dict = load_patient(patient=patient)\n",
    "    test_set = list(test_sets.values())\n",
    "    test_set = pd.concat(test_set, axis=0)\n",
    "\n",
    "    \n",
    "    \n",
    "    if \"CellID\" in train_set.columns:\n",
    "        train_set.drop(columns=[\"CellID\"])\n",
    "    train_set = train_set[COLUMNS_OF_INTEREST].copy()\n",
    "    #train_set = train_set.drop(columns=[\"Patient Id\", \"Sample Id\", \"MouseIgG1\"])\n",
    "    train_set.reset_index(drop=True, inplace=True)\n",
    "   \n",
    "    if \"CellID\" in test_set.columns:\n",
    "        test_set.drop(columns=[\"CellID\"])\n",
    "    test_set = test_set[COLUMNS_OF_INTEREST].copy()\n",
    "    #test_set = test_set.drop(columns=[\"Patient Id\", \"Sample Id\", \"MouseIgG1\"])\n",
    "    experiment = setup(data=train_set,test_data=test_set, target='Treatment', index=False)\n",
    "    # Perform initial model comparison.\n",
    "    best = compare_models()\n",
    "    model_comparison_df = pull()\n",
    "    #save model comparison\n",
    "    excluded_patient_file_name: Path = Path(f\"{patient}_excluded_model_performance.csv\")\n",
    "    if not excluded_patient_file_name.exists():\n",
    "        model_comparison_df.to_csv(Path(save_folder,excluded_patient_file_name))\n",
    "\n",
    "    # Predict on test set\n",
    "    # Evaluate the model (this will show the performance metrics in PyCaret's UI)\n",
    "    predictions = predict_model(best, data=test_set)\n",
    "    metrics = pull()\n",
    "    metrics.to_csv(Path(save_folder, f\"{patient}_metrics.csv\"))\n",
    "\n",
    "    \n"
   ]
  },
  {
   "cell_type": "code",
   "execution_count": null,
   "id": "c816af71-8f2a-46ff-868b-b10ed7458866",
   "metadata": {},
   "outputs": [],
   "source": []
  },
  {
   "cell_type": "code",
   "execution_count": null,
   "id": "59da8eb2-bd8d-43eb-93d9-2d0970d53ba6",
   "metadata": {},
   "outputs": [],
   "source": []
  }
 ],
 "metadata": {
  "kernelspec": {
   "display_name": "Python 3 (ipykernel)",
   "language": "python",
   "name": "python3"
  },
  "language_info": {
   "codemirror_mode": {
    "name": "ipython",
    "version": 3
   },
   "file_extension": ".py",
   "mimetype": "text/x-python",
   "name": "python",
   "nbconvert_exporter": "python",
   "pygments_lexer": "ipython3",
   "version": "3.9.4"
  }
 },
 "nbformat": 4,
 "nbformat_minor": 5
}
