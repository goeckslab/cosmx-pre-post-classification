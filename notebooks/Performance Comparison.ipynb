{
 "cells": [
  {
   "cell_type": "code",
   "execution_count": 23,
   "id": "d14e91dd-ecf1-46b2-811a-79d85a838e11",
   "metadata": {},
   "outputs": [],
   "source": [
    "import pandas as pd\n",
    "from pathlib import Path\n",
    "import seaborn as sns\n",
    "import matplotlib.pyplot as plt"
   ]
  },
  {
   "cell_type": "code",
   "execution_count": 11,
   "id": "4a471f13-d699-4ec5-a2a0-a449ae147ff5",
   "metadata": {},
   "outputs": [],
   "source": [
    "radii = [0, 90, 120]w"
   ]
  },
  {
   "cell_type": "code",
   "execution_count": 16,
   "id": "a3b95419-9ee4-49c0-8c67-142c5de83273",
   "metadata": {},
   "outputs": [],
   "source": [
    "data_frames = []\n",
    "for radius in radii:\n",
    "    load_path = Path(str(radius))\n",
    "    patient_c: pd.DataFrame = pd.read_csv(Path(load_path, \"patient_c_metrics.csv\"))\n",
    "    patient_c[\"Patient\"] = \"Patient C\"\n",
    "    patient_c[\"Radius\"] = radius\n",
    "    data_frames.append(patient_c)\n",
    "    \n",
    "    patient_d = pd.read_csv(Path(load_path, \"patient_d_metrics.csv\"))\n",
    "    patient_d[\"Patient\"] = \"Patient D\"\n",
    "    patient_d[\"Radius\"] = radius\n",
    "    data_frames.append(patient_d)\n",
    "\n",
    "\n",
    "metrics = pd.concat(data_frames, axis=0)\n",
    "metrics = metrics.drop(columns=[\"Unnamed: 0\"])"
   ]
  },
  {
   "cell_type": "code",
   "execution_count": 17,
   "id": "4569a566-096e-4fca-ae4a-efba6ddabebb",
   "metadata": {},
   "outputs": [
    {
     "data": {
      "text/html": [
       "<div>\n",
       "<style scoped>\n",
       "    .dataframe tbody tr th:only-of-type {\n",
       "        vertical-align: middle;\n",
       "    }\n",
       "\n",
       "    .dataframe tbody tr th {\n",
       "        vertical-align: top;\n",
       "    }\n",
       "\n",
       "    .dataframe thead th {\n",
       "        text-align: right;\n",
       "    }\n",
       "</style>\n",
       "<table border=\"1\" class=\"dataframe\">\n",
       "  <thead>\n",
       "    <tr style=\"text-align: right;\">\n",
       "      <th></th>\n",
       "      <th>Model</th>\n",
       "      <th>Accuracy</th>\n",
       "      <th>AUC</th>\n",
       "      <th>Recall</th>\n",
       "      <th>Prec.</th>\n",
       "      <th>F1</th>\n",
       "      <th>Kappa</th>\n",
       "      <th>MCC</th>\n",
       "      <th>Patient</th>\n",
       "      <th>Radius</th>\n",
       "    </tr>\n",
       "  </thead>\n",
       "  <tbody>\n",
       "    <tr>\n",
       "      <th>0</th>\n",
       "      <td>Extra Trees Classifier</td>\n",
       "      <td>0.4899</td>\n",
       "      <td>0.4941</td>\n",
       "      <td>0.4899</td>\n",
       "      <td>0.4949</td>\n",
       "      <td>0.3702</td>\n",
       "      <td>-0.0024</td>\n",
       "      <td>-0.0050</td>\n",
       "      <td>Patient C</td>\n",
       "      <td>0</td>\n",
       "    </tr>\n",
       "    <tr>\n",
       "      <th>0</th>\n",
       "      <td>Extra Trees Classifier</td>\n",
       "      <td>0.2548</td>\n",
       "      <td>0.4255</td>\n",
       "      <td>0.2548</td>\n",
       "      <td>0.5492</td>\n",
       "      <td>0.1276</td>\n",
       "      <td>-0.0069</td>\n",
       "      <td>-0.0380</td>\n",
       "      <td>Patient D</td>\n",
       "      <td>0</td>\n",
       "    </tr>\n",
       "    <tr>\n",
       "      <th>0</th>\n",
       "      <td>Extra Trees Classifier</td>\n",
       "      <td>0.4899</td>\n",
       "      <td>0.4969</td>\n",
       "      <td>0.4899</td>\n",
       "      <td>0.4946</td>\n",
       "      <td>0.3892</td>\n",
       "      <td>-0.0036</td>\n",
       "      <td>-0.0063</td>\n",
       "      <td>Patient C</td>\n",
       "      <td>90</td>\n",
       "    </tr>\n",
       "    <tr>\n",
       "      <th>0</th>\n",
       "      <td>Logistic Regression</td>\n",
       "      <td>0.2486</td>\n",
       "      <td>0.5470</td>\n",
       "      <td>0.2486</td>\n",
       "      <td>0.4510</td>\n",
       "      <td>0.1243</td>\n",
       "      <td>-0.0186</td>\n",
       "      <td>-0.0939</td>\n",
       "      <td>Patient D</td>\n",
       "      <td>90</td>\n",
       "    </tr>\n",
       "    <tr>\n",
       "      <th>0</th>\n",
       "      <td>Extra Trees Classifier</td>\n",
       "      <td>0.4898</td>\n",
       "      <td>0.4939</td>\n",
       "      <td>0.4898</td>\n",
       "      <td>0.4944</td>\n",
       "      <td>0.3963</td>\n",
       "      <td>-0.0042</td>\n",
       "      <td>-0.0069</td>\n",
       "      <td>Patient C</td>\n",
       "      <td>120</td>\n",
       "    </tr>\n",
       "    <tr>\n",
       "      <th>0</th>\n",
       "      <td>Logistic Regression</td>\n",
       "      <td>0.2480</td>\n",
       "      <td>0.5558</td>\n",
       "      <td>0.2480</td>\n",
       "      <td>0.4455</td>\n",
       "      <td>0.1181</td>\n",
       "      <td>-0.0147</td>\n",
       "      <td>-0.0849</td>\n",
       "      <td>Patient D</td>\n",
       "      <td>120</td>\n",
       "    </tr>\n",
       "  </tbody>\n",
       "</table>\n",
       "</div>"
      ],
      "text/plain": [
       "                    Model  Accuracy     AUC  Recall   Prec.      F1   Kappa  \\\n",
       "0  Extra Trees Classifier    0.4899  0.4941  0.4899  0.4949  0.3702 -0.0024   \n",
       "0  Extra Trees Classifier    0.2548  0.4255  0.2548  0.5492  0.1276 -0.0069   \n",
       "0  Extra Trees Classifier    0.4899  0.4969  0.4899  0.4946  0.3892 -0.0036   \n",
       "0     Logistic Regression    0.2486  0.5470  0.2486  0.4510  0.1243 -0.0186   \n",
       "0  Extra Trees Classifier    0.4898  0.4939  0.4898  0.4944  0.3963 -0.0042   \n",
       "0     Logistic Regression    0.2480  0.5558  0.2480  0.4455  0.1181 -0.0147   \n",
       "\n",
       "      MCC    Patient  Radius  \n",
       "0 -0.0050  Patient C       0  \n",
       "0 -0.0380  Patient D       0  \n",
       "0 -0.0063  Patient C      90  \n",
       "0 -0.0939  Patient D      90  \n",
       "0 -0.0069  Patient C     120  \n",
       "0 -0.0849  Patient D     120  "
      ]
     },
     "execution_count": 17,
     "metadata": {},
     "output_type": "execute_result"
    }
   ],
   "source": [
    "metrics"
   ]
  },
  {
   "cell_type": "code",
   "execution_count": 26,
   "id": "a3a958c4-c697-45db-957c-d8de222abba1",
   "metadata": {},
   "outputs": [
    {
     "data": {
      "image/png": "[encoded data removed]",
      "text/plain": [
       "<Figure size 640x480 with 1 Axes>"
      ]
     },
     "metadata": {},
     "output_type": "display_data"
    }
   ],
   "source": [
    "sns.lineplot(data=metrics, x=\"Radius\", y=\"Accuracy\", hue=\"Patient\")\n",
    "plt.savefig(\"accuracy_per_radius.png\", dpi=300)"
   ]
  },
  {
   "cell_type": "code",
   "execution_count": null,
   "id": "cb5d3fcb-a6cc-40de-b19c-e691fdd0c06c",
   "metadata": {},
   "outputs": [],
   "source": []
  }
 ],
 "metadata": {
  "kernelspec": {
   "display_name": "Python 3 (ipykernel)",
   "language": "python",
   "name": "python3"
  },
  "language_info": {
   "codemirror_mode": {
    "name": "ipython",
    "version": 3
   },
   "file_extension": ".py",
   "mimetype": "text/x-python",
   "name": "python",
   "nbconvert_exporter": "python",
   "pygments_lexer": "ipython3",
   "version": "3.9.4"
  }
 },
 "nbformat": 4,
 "nbformat_minor": 5
}
